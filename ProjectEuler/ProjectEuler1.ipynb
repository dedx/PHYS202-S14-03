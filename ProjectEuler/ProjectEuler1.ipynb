{
 "metadata": {
  "name": "",
  "signature": "sha256:48828b590feb9fb7925844437648505812b88545c9d7ca534f559cfeffccce8a"
 },
 "nbformat": 3,
 "nbformat_minor": 0,
 "worksheets": [
  {
   "cells": [
    {
     "cell_type": "heading",
     "level": 1,
     "metadata": {},
     "source": [
      "Multiples of 3 and 5"
     ]
    },
    {
     "cell_type": "heading",
     "level": 3,
     "metadata": {},
     "source": [
      "Problem 1"
     ]
    },
    {
     "cell_type": "markdown",
     "metadata": {},
     "source": [
      "If we list all the natural numbers below 10 that are multiples of 3 or 5, we get 3, 5, 6 and 9. The sum of these multiples is 23.\n",
      "\n",
      "Find the sum of all the multiples of 3 or 5 below 1000."
     ]
    },
    {
     "cell_type": "markdown",
     "metadata": {},
     "source": [
      "Driver: Jennifer\n",
      "\n",
      "Navigator: Jennifer"
     ]
    },
    {
     "cell_type": "code",
     "collapsed": false,
     "input": [],
     "language": "python",
     "metadata": {},
     "outputs": []
    }
   ],
   "metadata": {}
  }
 ]
}